{
 "cells": [
  {
   "cell_type": "markdown",
   "metadata": {},
   "source": [
    "## Import Libraries"
   ]
  },
  {
   "cell_type": "code",
   "execution_count": 17,
   "metadata": {},
   "outputs": [],
   "source": [
    "import cv2\n",
    "import numpy as np"
   ]
  },
  {
   "cell_type": "markdown",
   "metadata": {},
   "source": [
    "## Create Classifier"
   ]
  },
  {
   "cell_type": "code",
   "execution_count": 21,
   "metadata": {},
   "outputs": [],
   "source": [
    "car_classifier = cv2.CascadeClassifier('Haarcascade/haarcascade_car.xml')"
   ]
  },
  {
   "cell_type": "markdown",
   "metadata": {},
   "source": [
    "## Capture Video"
   ]
  },
  {
   "cell_type": "code",
   "execution_count": 22,
   "metadata": {},
   "outputs": [],
   "source": [
    "cap = cv2.VideoCapture('Videos/Vehicles.mp4')"
   ]
  },
  {
   "cell_type": "markdown",
   "metadata": {},
   "source": [
    "## Main Code"
   ]
  },
  {
   "cell_type": "code",
   "execution_count": 24,
   "metadata": {},
   "outputs": [],
   "source": [
    "# While Loop\n",
    "while cap.isOpened():\n",
    "    \n",
    "    #Read the Capture\n",
    "    ret, frame =cap.read()\n",
    "    \n",
    "    #Pass the Frame to classifier\n",
    "    cars =car_classifier.detectMultiScale(frame, 1.4, 2)\n",
    "            \n",
    "    #Bound Boxes to Identified Bodies\n",
    "    for (x,y,w,h) in cars:\n",
    "        cv2.rectangle(frame,\n",
    "                      (x, y),\n",
    "                      (x+w, y+h),\n",
    "                      (0,255,225),\n",
    "                      2)\n",
    "        cv2.imshow('Cars', frame)\n",
    "            \n",
    "    #Exit with Esc button\n",
    "    if cv2.waitKey(1) & 0xFF == 27:\n",
    "        break\n",
    "            \n",
    "\n",
    "#Release the capture & Destroy all Windows\n",
    "cap.release()\n",
    "cv2.destroyAllWindows()"
   ]
  },
  {
   "cell_type": "code",
   "execution_count": null,
   "metadata": {},
   "outputs": [],
   "source": []
  }
 ],
 "metadata": {
  "kernelspec": {
   "display_name": "Python 3",
   "language": "python",
   "name": "python3"
  },
  "language_info": {
   "codemirror_mode": {
    "name": "ipython",
    "version": 3
   },
   "file_extension": ".py",
   "mimetype": "text/x-python",
   "name": "python",
   "nbconvert_exporter": "python",
   "pygments_lexer": "ipython3",
   "version": "3.7.3"
  }
 },
 "nbformat": 4,
 "nbformat_minor": 2
}
